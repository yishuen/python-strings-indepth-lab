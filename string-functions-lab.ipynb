{
 "cells": [
  {
   "cell_type": "code",
   "execution_count": 19,
   "metadata": {},
   "outputs": [],
   "source": [
    "def say_hello(name):\n",
    "    n = str(name)\n",
    "    return \"Hi my name is {}\".format(n)\n"
   ]
  },
  {
   "cell_type": "code",
   "execution_count": 20,
   "metadata": {},
   "outputs": [
    {
     "name": "stdout",
     "output_type": "stream",
     "text": [
      "Hi my name is me\n"
     ]
    }
   ],
   "source": [
    "print(say_hello(\"me\"))"
   ]
  },
  {
   "cell_type": "code",
   "execution_count": 21,
   "metadata": {},
   "outputs": [],
   "source": [
    "def replace_given_substring(str_to_replace, str_to_insert, string):\n",
    "    return string.replace(str_to_replace, str_to_insert)"
   ]
  },
  {
   "cell_type": "code",
   "execution_count": 22,
   "metadata": {},
   "outputs": [
    {
     "name": "stdout",
     "output_type": "stream",
     "text": [
      "ccbb\n"
     ]
    }
   ],
   "source": [
    "print(replace_given_substring(\"aa\", \"bb\", \"ccaa\"))"
   ]
  },
  {
   "cell_type": "code",
   "execution_count": 265,
   "metadata": {},
   "outputs": [],
   "source": [
    "def remove_duplicate_punctuation(string):\n",
    "    filtered = \"\"\n",
    "    from string import punctuation\n",
    "    punc = set(punctuation)\n",
    "    for k in range(len(string)-1):\n",
    "        if string[k] not in punc:\n",
    "            filtered += string[k]\n",
    "        if string[k] in punc:\n",
    "            if string[k] != string[k+1]:\n",
    "                filtered += string[k]\n",
    "            else:\n",
    "                filtered += \"\"\n",
    "    return filtered + string[-1]\n"
   ]
  },
  {
   "cell_type": "code",
   "execution_count": 266,
   "metadata": {},
   "outputs": [
    {
     "name": "stdout",
     "output_type": "stream",
     "text": [
      "hii.%&hi$%!^$asdf!\n"
     ]
    }
   ],
   "source": [
    "print(remove_duplicate_punctuation(\"hii....%%%%&&&hi$$$%%%%!!^^^$$$asdf!!!\"))"
   ]
  },
  {
   "cell_type": "code",
   "execution_count": 243,
   "metadata": {},
   "outputs": [],
   "source": [
    "def atdotcom(x):\n",
    "    if \"@\" and \".com\" in x:\n",
    "        return True\n",
    "    else:\n",
    "        return False\n",
    "    \n",
    "def nospchx(x):\n",
    "    wo_spchx = []\n",
    "    special_chx = ['*','~','#','$','%','&','(',')','\\`','\\\"',':',';','/','>','<', '!']\n",
    "    for chx in x:\n",
    "        if chx not in special_chx:\n",
    "            wo_spchx.append(chx)\n",
    "    return wo_spchx\n",
    "\n",
    "def validate_email_format(email):\n",
    "    if atdotcom(email) == True and nospchx(email) == list(email):\n",
    "        return True\n",
    "    else:\n",
    "        return False\n",
    "    "
   ]
  },
  {
   "cell_type": "code",
   "execution_count": 230,
   "metadata": {},
   "outputs": [
    {
     "name": "stdout",
     "output_type": "stream",
     "text": [
      "True\n",
      "False\n"
     ]
    }
   ],
   "source": [
    "print(validate_email_format('a@hello.com'))\n",
    "print(validate_email_format('b@hello.co'))"
   ]
  },
  {
   "cell_type": "code",
   "execution_count": 228,
   "metadata": {},
   "outputs": [],
   "source": [
    "def anonymize_credit_card_number(credit_card_number):\n",
    "    ccno = credit_card_number\n",
    "    num_length = len(list(ccno))\n",
    "    digits = ['0', '1', '2', '3', '4', '5', '6', '7', '8', '9']\n",
    "    masked = \"\"\n",
    "    for x in ccno[0:(num_length - 4)]:\n",
    "        if x in digits:\n",
    "            masked +=  \"X\"\n",
    "        else:\n",
    "            masked += (str(x))\n",
    "    return masked + ccno[-4:]\n",
    "        "
   ]
  },
  {
   "cell_type": "code",
   "execution_count": 229,
   "metadata": {},
   "outputs": [
    {
     "name": "stdout",
     "output_type": "stream",
     "text": [
      "XXXX-XXXX-XXXX-1234\n"
     ]
    }
   ],
   "source": [
    "print(anonymize_credit_card_number(\"1234-1234-1234-1234\"))"
   ]
  },
  {
   "cell_type": "code",
   "execution_count": null,
   "metadata": {},
   "outputs": [],
   "source": []
  }
 ],
 "metadata": {
  "kernelspec": {
   "display_name": "Python 3",
   "language": "python",
   "name": "python3"
  },
  "language_info": {
   "codemirror_mode": {
    "name": "ipython",
    "version": 3
   },
   "file_extension": ".py",
   "mimetype": "text/x-python",
   "name": "python",
   "nbconvert_exporter": "python",
   "pygments_lexer": "ipython3",
   "version": "3.7.0"
  }
 },
 "nbformat": 4,
 "nbformat_minor": 2
}
